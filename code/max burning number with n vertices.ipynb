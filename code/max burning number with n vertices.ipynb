{
 "cells": [
  {
   "cell_type": "markdown",
   "id": "821bcf00-9954-4e49-b369-ddd7f49e62a2",
   "metadata": {},
   "source": [
    "### assumptions : the graph is undirect and connected\n",
    "\n",
    "the max b(G) with n vertices lays on the situation when the graph is straight, like G([1, 2, 3], [(1,2), (2, 3)]) (sequence doesn't matter), if there are at least one vertices connected with more than 2 vertices, when we compute the vertices, we can ignore one of the vertices when we count the b(G), because it will be burned when other two were burnt. which can be denoted as \n",
    "\n",
    "n is the vertices\n",
    "b(G,n)_straight >= b(G,n-1)_straight >= b(G,n)_unstraight (b(G,n-1)_straight = b(G,n)_unstraight established when there is only one vertices connected with at least 3 vertices.)\n",
    "\n",
    "finally, when the graph is straight, the b(G) = (n+1)/2 when n is odd, n/2+1 when n is even\n",
    "\n",
    "then for 1<= n <= 6"
   ]
  },
  {
   "cell_type": "code",
   "execution_count": 3,
   "id": "592f59cd-e0dc-492b-98b9-5b29d48652e7",
   "metadata": {},
   "outputs": [
    {
     "name": "stdout",
     "output_type": "stream",
     "text": [
      "max b(G) = 1.0 for n = 1\n",
      "max b(G) = 2.0 for n = 2\n",
      "max b(G) = 2.0 for n = 3\n",
      "max b(G) = 3.0 for n = 4\n",
      "max b(G) = 3.0 for n = 5\n",
      "max b(G) = 4.0 for n = 6\n"
     ]
    }
   ],
   "source": [
    "for n in range(1, 7):\n",
    "    if n%2:\n",
    "        print(f'max b(G) = {(n+1)/2 } for n = {n}')\n",
    "    else:\n",
    "        print(f'max b(G) = { n/2 + 1} for n = {n}')"
   ]
  },
  {
   "cell_type": "code",
   "execution_count": null,
   "id": "3e5e52a5-1ed1-47f9-8c3e-034630086e2e",
   "metadata": {},
   "outputs": [],
   "source": []
  }
 ],
 "metadata": {
  "kernelspec": {
   "display_name": "Python 3 (ipykernel)",
   "language": "python",
   "name": "python3"
  },
  "language_info": {
   "codemirror_mode": {
    "name": "ipython",
    "version": 3
   },
   "file_extension": ".py",
   "mimetype": "text/x-python",
   "name": "python",
   "nbconvert_exporter": "python",
   "pygments_lexer": "ipython3",
   "version": "3.11.6"
  }
 },
 "nbformat": 4,
 "nbformat_minor": 5
}
