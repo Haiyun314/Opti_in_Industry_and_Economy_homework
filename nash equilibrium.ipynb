{
 "cells": [
  {
   "cell_type": "code",
   "execution_count": 17,
   "id": "2cd89990-be15-4457-a62e-9a9b526fed79",
   "metadata": {},
   "outputs": [],
   "source": [
    "import numpy as np\n",
    "import scipy.optimize as opt\n",
    "\n",
    "def opti_strategy(payoff_matrix, player_position: bool):\n",
    "    \"\"\"\n",
    "\n",
    "    :param payoff matrix: outcomes of a strategic interaction between two or more decision-makers\n",
    "    :param player_position: denote which player on the left side\n",
    "    \"\"\"\n",
    "    # payoff matrix of player A\n",
    "    payoff = payoff_matrix\n",
    "\n",
    "    # opponent payoff matrix\n",
    "    payoff_op = -1 * payoff.transpose()\n",
    "\n",
    "    # z coefficient\n",
    "    z_coe = np.array([-1, -1, -1]).reshape((3, 1))\n",
    "\n",
    "    # Coefficients of the objective function to be minimized\n",
    "    c = np.array([0, 0, 0, -1])\n",
    "\n",
    "    # Coefficients of the inequality constraints (Ax >= b)\n",
    "    if not player_position:  # if player position 0\n",
    "        Ine_M = -1 * np.append(payoff, z_coe, axis=1)\n",
    "    else:  # if player position 1\n",
    "        Ine_M = -1 * np.append(payoff_op, z_coe, axis=1)\n",
    "\n",
    "    Ine_b = np.array([0, 0, 0])\n",
    "\n",
    "    # Coefficients of the equality constraints (Ax = b)\n",
    "    E_M = np.array([[1, 1, 1, 0]])\n",
    "    E_b = np.array([1])\n",
    "\n",
    "    # Bounds for variables (0 <= xi <= 1)\n",
    "    x1 = (0, 1)\n",
    "    x2 = (0, 1)\n",
    "    x3 = (0, 1)\n",
    "    z = (-10, 10)\n",
    "\n",
    "    # Solve the linear programming problem\n",
    "    result = opt.linprog(c, A_ub=Ine_M, b_ub=Ine_b, A_eq=E_M, b_eq=E_b, bounds=[x1, x2, x3, z], method='highs')\n",
    "\n",
    "    # Print the results\n",
    "    print(\"Status:\", result.message)\n",
    "    print(\"opponent Optimal Values (x1, x2, x3):\", result.x[:-1])\n",
    "    print(\"expected scores can be achieved\", result.x[-1])\n"
   ]
  },
  {
   "cell_type": "markdown",
   "id": "2d17ed1a-6f82-4c18-8444-06aa98e18c65",
   "metadata": {},
   "source": [
    "### For player A denoted as position 0\n"
   ]
  },
  {
   "cell_type": "code",
   "execution_count": 18,
   "id": "236ef34d-0a6d-4843-8630-a4707ce3b204",
   "metadata": {},
   "outputs": [
    {
     "name": "stdout",
     "output_type": "stream",
     "text": [
      "Status: Optimization terminated successfully. (HiGHS Status 7: Optimal)\n",
      "opponent Optimal Values (x1, x2, x3): [0.33333333 0.55555556 0.11111111]\n",
      "expected scores can be achieved 0.11111111111111127\n"
     ]
    }
   ],
   "source": [
    "payoff = np.array([[-2, 1, 2],\n",
    "                   [2, -1, 0],\n",
    "                   [1, 0, -2]]\n",
    "                  )\n",
    "player = 0  # player A\n",
    "opti_strategy(payoff, bool(player))"
   ]
  },
  {
   "cell_type": "markdown",
   "id": "daa247fc-e542-404e-a2ef-8bd717658f70",
   "metadata": {},
   "source": [
    "### For opponent denoted as position 1\n",
    "\n",
    "for the convenience of computation, the opponent payoff matrix denoted as payoff_op = -1 * payoff.transpose(), build-in the opti_strategy function, when given position parameter 1, it will be excuted.\n",
    "\n",
    "payoff_op: $$\\begin{bmatrix} 2 & -2 & -1 \\\\ -1 & 1 & 0 \\\\ -2 & 0 & 2 \\end{bmatrix}$$"
   ]
  },
  {
   "cell_type": "code",
   "execution_count": 21,
   "id": "cf20729d-7261-4f86-93d9-ca1dd631487b",
   "metadata": {},
   "outputs": [
    {
     "name": "stdout",
     "output_type": "stream",
     "text": [
      "Status: Optimization terminated successfully. (HiGHS Status 7: Optimal)\n",
      "opponent Optimal Values (x1, x2, x3): [0.38888889 0.27777778 0.33333333]\n",
      "expected scores can be achieved -0.11111111111111105\n"
     ]
    }
   ],
   "source": [
    "player = 1 # opponent \n",
    "opti_strategy(payoff, bool(player))"
   ]
  },
  {
   "cell_type": "code",
   "execution_count": null,
   "id": "805d7fa8-be0c-417c-8053-acd15ccb9856",
   "metadata": {},
   "outputs": [],
   "source": []
  }
 ],
 "metadata": {
  "kernelspec": {
   "display_name": "Python 3 (ipykernel)",
   "language": "python",
   "name": "python3"
  },
  "language_info": {
   "codemirror_mode": {
    "name": "ipython",
    "version": 3
   },
   "file_extension": ".py",
   "mimetype": "text/x-python",
   "name": "python",
   "nbconvert_exporter": "python",
   "pygments_lexer": "ipython3",
   "version": "3.11.6"
  }
 },
 "nbformat": 4,
 "nbformat_minor": 5
}
